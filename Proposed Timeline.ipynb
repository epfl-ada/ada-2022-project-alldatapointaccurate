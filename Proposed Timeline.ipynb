{
 "cells": [
  {
   "cell_type": "markdown",
   "id": "cec7b968",
   "metadata": {},
   "source": [
    "## Proposed Timeline\n",
    "- 18 November – 25 November: Continue the project and do a deeper analysis according to the future directions. \n",
    "- 25 November – 2 December: Pause project work and do the Homework 2.\n",
    "- 2 December –9 December: Integrate all analyzes and write out the draft of our datastory.\n",
    "- 9 December – 16 December: Complete the team github including all code and other documents, and revise our datastory to the final version.\n",
    "- 16 December – 23 December: Build the web development interface to tell our datastory vividly."
   ]
  }
 ],
 "metadata": {
  "kernelspec": {
   "display_name": "Python 3 (ipykernel)",
   "language": "python",
   "name": "python3"
  },
  "language_info": {
   "codemirror_mode": {
    "name": "ipython",
    "version": 3
   },
   "file_extension": ".py",
   "mimetype": "text/x-python",
   "name": "python",
   "nbconvert_exporter": "python",
   "pygments_lexer": "ipython3",
   "version": "3.7.13"
  }
 },
 "nbformat": 4,
 "nbformat_minor": 5
}
