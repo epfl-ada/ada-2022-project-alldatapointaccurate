{
 "cells": [
  {
   "cell_type": "markdown",
   "id": "519d6275",
   "metadata": {},
   "source": [
    "### The structural gender difference in the social networks of actors"
   ]
  },
  {
   "cell_type": "markdown",
   "id": "8eb3ef29",
   "metadata": {},
   "source": [
    "Actors are an essential part of the movies, and the movies in which the two actors have worked together can be seen as the connect between these two actors, which contributes to a very big social network. With the help of such a network structure, we can find out the structural gender difference in the movies."
   ]
  },
  {
   "cell_type": "markdown",
   "id": "76b6006d",
   "metadata": {},
   "source": [
    "We start to build up the graph with the prepared nodes and edges data. We use `nx.Graph()` to generate an empty undirected graph and load our prepared data. In our social network graph, every actor represents a node and there is a edge between two nodes if the two actors have cooperated at least one movies. **The more degrees the node has, the more influential the actor is**."
   ]
  },
  {
   "cell_type": "markdown",
   "id": "3eec437e",
   "metadata": {},
   "source": [
    "First we select the top 100 nodes which have the most degrees, which means that they represent 100 most influential actors. We name the original graph **G** and this subgraph **G100**. After obversing the gender distribution in graph G and G100, we can find that there are only eight females in the Top100 actors, which shows that in social network of actors the male actors occupy the absolute main force."
   ]
  },
  {
   "cell_type": "markdown",
   "id": "af52efba",
   "metadata": {},
   "source": [
    "<img alt=\"image 1\" src=\"./images/Gender ratio.png\" width = \"50%\">"
   ]
  },
  {
   "cell_type": "markdown",
   "id": "78be291e",
   "metadata": {},
   "source": [
    "We also have a look at the most famous male and female actors, who are **Samuel L. Jackson** and **Whoopi Goldberg**. "
   ]
  },
  {
   "cell_type": "code",
   "execution_count": null,
   "id": "1ebf14b0",
   "metadata": {},
   "outputs": [],
   "source": []
  }
 ],
 "metadata": {
  "kernelspec": {
   "display_name": "Python 3",
   "language": "python",
   "name": "python3"
  },
  "language_info": {
   "codemirror_mode": {
    "name": "ipython",
    "version": 3
   },
   "file_extension": ".py",
   "mimetype": "text/x-python",
   "name": "python",
   "nbconvert_exporter": "python",
   "pygments_lexer": "ipython3",
   "version": "3.6.13"
  }
 },
 "nbformat": 4,
 "nbformat_minor": 5
}
