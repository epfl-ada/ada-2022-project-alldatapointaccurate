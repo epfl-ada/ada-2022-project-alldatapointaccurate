{
 "cells": [
  {
   "cell_type": "markdown",
   "id": "519d6275",
   "metadata": {},
   "source": [
    "### The structural gender difference in the social networks of actors"
   ]
  },
  {
   "cell_type": "markdown",
   "id": "8eb3ef29",
   "metadata": {},
   "source": [
    "Actors are an essential part of the movies, and the movies in which the two actors have worked together can be seen as the connect between these two actors, which contributes to a very big social network. With the help of such a network structure, we can find out the structural gender difference in the movies."
   ]
  },
  {
   "cell_type": "markdown",
   "id": "76b6006d",
   "metadata": {},
   "source": [
    "We start to build up the graph with the prepared nodes and edges data. We use `nx.Graph()` to generate an empty undirected graph and load our prepared data. In our social network graph, every actor represents a node and there is a edge between two nodes if the two actors have cooperated at least one movies. **The more degrees the node has, the more influential the actor is**."
   ]
  },
  {
   "cell_type": "markdown",
   "id": "7f12a702",
   "metadata": {},
   "source": [
    "First we select the top 100 nodes which have the most degrees, which means that they represent 100 most influential actors. We name the original graph **G** and this subgraph **G100**. After obversing the gender distribution in graph G and G100, we can find that there are only eight females in the Top100 actors, which shows that in social network of actors the male actors occupy the absolute main force."
   ]
  },
  {
   "cell_type": "markdown",
   "id": "81e4b05a",
   "metadata": {},
   "source": [
    "<img alt=\"image 1\" src=\"./images/Gender ratio.png\" width = \"50%\">"
   ]
  },
  {
   "cell_type": "markdown",
   "id": "78be291e",
   "metadata": {},
   "source": [
    "We also have a look at the most famous male and female actors, who are **Samuel L. Jackson** and **Whoopi Goldberg**. "
   ]
  },
  {
   "cell_type": "markdown",
   "id": "673e3071",
   "metadata": {},
   "source": [
    "<img alt=\"image 2\" src=\"./images/famous actors.png\" width = \"50%\">"
   ]
  },
  {
   "cell_type": "markdown",
   "id": "d73ce8e4",
   "metadata": {},
   "source": [
    "After filtering some height outliers, we analyse the height difference in G and G100 between male and female actors. The p-value of T-test for the average height of male between Top100 and all actors is **0.61**, which shows that they are different in fact. So we can find that for female actors, who are in Top100 are usualy taller, but for male actors, who are in Top100 almost the same as the average or even shorter than average. It is a fact that taller people are more likely to become an actor or appear in the movies. Furtherly we can make a conclusion that Society has broad height requirements for male actors, but it often has higher requirements for women."
   ]
  },
  {
   "cell_type": "markdown",
   "id": "d291385c",
   "metadata": {},
   "source": [
    "<img alt=\"image 3\" src=\"./images/Height difference.png\" width = \"50%\">"
   ]
  },
  {
   "cell_type": "markdown",
   "id": "a6e49a11",
   "metadata": {},
   "source": [
    "Finally, we generate male subgraph **G_male** and female subgraph **G_female** from the social netowrk graph of actors **G** and compute structural features on them to explore the structural gender difference.  "
   ]
  },
  {
   "cell_type": "markdown",
   "id": "14be907d",
   "metadata": {},
   "source": [
    "<img alt=\"image 4\" src=\"./images/Structrual features.png\" width = \"50%\">"
   ]
  },
  {
   "cell_type": "markdown",
   "id": "e6c0c12c",
   "metadata": {},
   "source": [
    "It is interesting that although male actors's nodes have more average degrees in male subgraph, which means that there are more cooperations in the film and television industry between male actors, female actors actually have more stable partnerships with female actors accroding to the higher transitivity value of gender subgraphs and higher clustering coefficient of specific actors"
   ]
  },
  {
   "cell_type": "markdown",
   "id": "6a716c4b",
   "metadata": {},
   "source": [
    "One convincing explanation is that the number of female actors is less than the male actors, so for every specific kind of female character group in the movies, there are few potiental female candidates, and that is why there is more stable cooperation relationship between female actors."
   ]
  }
 ],
 "metadata": {
  "kernelspec": {
   "display_name": "Python 3",
   "language": "python",
   "name": "python3"
  },
  "language_info": {
   "codemirror_mode": {
    "name": "ipython",
    "version": 3
   },
   "file_extension": ".py",
   "mimetype": "text/x-python",
   "name": "python",
   "nbconvert_exporter": "python",
   "pygments_lexer": "ipython3",
   "version": "3.6.13"
  }
 },
 "nbformat": 4,
 "nbformat_minor": 5
}
